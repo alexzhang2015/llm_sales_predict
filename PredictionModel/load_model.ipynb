{
 "cells": [
  {
   "cell_type": "code",
   "execution_count": 6,
   "metadata": {},
   "outputs": [],
   "source": [
    "import pandas as pd\n",
    "import pickle\n"
   ]
  },
  {
   "cell_type": "code",
   "execution_count": 7,
   "metadata": {},
   "outputs": [
    {
     "data": {
      "text/plain": [
       "2023-01-09    39498.074903\n",
       "dtype: float64"
      ]
     },
     "execution_count": 7,
     "metadata": {},
     "output_type": "execute_result"
    }
   ],
   "source": [
    "# load model from file\n",
    "pkl_filename = 'StoreSalesPrediction.pkl' # This file should be in the current working derectory\n",
    "\n",
    "with open(pkl_filename, 'rb') as file:\n",
    "    pickle_model = pickle.load(file)\n",
    "\n",
    "# predict sales for a future date. Here is using a fix date '2023-01-09' because the history data is only up to '2023-01-08' and this model is base on the last day history sales data.\n",
    "X_test = pd.DataFrame({\n",
    "    'Lag_1':[38033.4]\n",
    "}, index=['2023-01-09'])\n",
    "\n",
    "y_pred_test = pd.Series(pickle_model.predict(X_test), index=X_test.index)\n",
    "\n",
    "y_pred_test"
   ]
  }
 ],
 "metadata": {
  "kernelspec": {
   "display_name": "base",
   "language": "python",
   "name": "python3"
  },
  "language_info": {
   "codemirror_mode": {
    "name": "ipython",
    "version": 3
   },
   "file_extension": ".py",
   "mimetype": "text/x-python",
   "name": "python",
   "nbconvert_exporter": "python",
   "pygments_lexer": "ipython3",
   "version": "3.8.5"
  }
 },
 "nbformat": 4,
 "nbformat_minor": 2
}
